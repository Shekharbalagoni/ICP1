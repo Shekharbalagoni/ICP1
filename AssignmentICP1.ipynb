{
  "nbformat": 4,
  "nbformat_minor": 0,
  "metadata": {
    "colab": {
      "provenance": []
    },
    "kernelspec": {
      "name": "python3",
      "display_name": "Python 3"
    },
    "language_info": {
      "name": "python"
    }
  },
  "cells": [
    {
      "cell_type": "code",
      "source": [
        "def process_string():\n",
        "    data = input(\"Enter a string: \")\n",
        "    char_list = list(data)\n",
        "    del char_list[1]\n",
        "    del char_list[2]\n",
        "    char_list.reverse()\n",
        "    result_string = ''.join(char_list)\n",
        "    print(\"Processed string:\", result_string)\n",
        "\n",
        "process_string()\n",
        ""
      ],
      "metadata": {
        "id": "tBfeyE-yN6EY",
        "outputId": "26b6b819-1f5e-4ba5-8aaa-be570492a5f4",
        "colab": {
          "base_uri": "https://localhost:8080/"
        }
      },
      "execution_count": 22,
      "outputs": [
        {
          "output_type": "stream",
          "name": "stdout",
          "text": [
            "Enter a string: python\n",
            "Processed string: notp\n"
          ]
        }
      ]
    },
    {
      "cell_type": "code",
      "source": [
        "num1 = int(input(\"enter number 1 :\"))\n",
        "num2 = int(input(\"enter number 2 :\"))\n",
        "\n",
        "print(\"\\n addition : \",(num1+num2))\n",
        "print(\"substraction : \",(num1-num2))\n",
        "print(\"divison : \",(num1/num2))\n",
        "print(\"multiplication : \",(num1*num2))"
      ],
      "metadata": {
        "colab": {
          "base_uri": "https://localhost:8080/"
        },
        "id": "yKOT_jFOr-6F",
        "outputId": "31bdf972-4065-410b-a1ed-0c5b66067831"
      },
      "execution_count": null,
      "outputs": [
        {
          "output_type": "stream",
          "name": "stdout",
          "text": [
            "enter number 1 :10\n",
            "enter number 2 :20\n",
            "\n",
            " addition :  30\n",
            "substraction :  -10\n",
            "divison :  0.5\n",
            "multiplication :  200\n"
          ]
        }
      ]
    },
    {
      "cell_type": "markdown",
      "source": [],
      "metadata": {
        "id": "61XGDYpKr8b2"
      }
    },
    {
      "cell_type": "code",
      "source": [
        "inputValue = input(\"enter string :\")\n",
        "inputValue = inputValue.replace(\"python\",\"pythons\")\n",
        "print(inputValue)"
      ],
      "metadata": {
        "colab": {
          "base_uri": "https://localhost:8080/"
        },
        "id": "MJhIZGvzty9Z",
        "outputId": "015580d1-540a-4b34-9f95-55e7a1ce509c"
      },
      "execution_count": null,
      "outputs": [
        {
          "output_type": "stream",
          "name": "stdout",
          "text": [
            "enter string :i love playing with python\n",
            "i love playing with pythons\n"
          ]
        }
      ]
    },
    {
      "cell_type": "code",
      "source": [
        "marks = int(input(\"Enter Students score : \"))\n",
        "\n",
        "if(marks<=100 and marks>=90):\n",
        "    print(\"Grade = A\")\n",
        "elif(marks<=89 and marks>=80):\n",
        "     print(\"Grade = B\")\n",
        "elif(marks<=79 and marks>=70):\n",
        "     print(\"Grade = C\")\n",
        "elif(marks<=69 and marks>=60):\n",
        "     print(\"Grade = D\")\n",
        "elif(marks<=59 and marks>=0):\n",
        "     print(\"Grade = F\")\n"
      ],
      "metadata": {
        "colab": {
          "base_uri": "https://localhost:8080/"
        },
        "id": "RKumfI6kujdw",
        "outputId": "350902c7-fe57-436a-bba8-b0c641ec707f"
      },
      "execution_count": null,
      "outputs": [
        {
          "output_type": "stream",
          "name": "stdout",
          "text": [
            "Enter Students score : 90\n",
            "Grade = A\n"
          ]
        }
      ]
    }
  ]
}