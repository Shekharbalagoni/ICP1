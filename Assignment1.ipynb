{
  "nbformat": 4,
  "nbformat_minor": 0,
  "metadata": {
    "colab": {
      "provenance": []
    },
    "kernelspec": {
      "name": "python3",
      "display_name": "Python 3"
    },
    "language_info": {
      "name": "python"
    }
  },
  "cells": [
    {
      "cell_type": "code",
      "execution_count": null,
      "metadata": {
        "id": "GfTKwnZxpbNl"
      },
      "outputs": [],
      "source": []
    },
    {
      "cell_type": "markdown",
      "source": [
        "1. Write a python program for the following:\n",
        "– Input the string “Python” as a list of characters from console, delete at least 2 characters, reverse the\n",
        "resultant string and print it.\n",
        "Sample input:\n",
        "• python\n",
        "• Sample output:\n",
        "• ntyp"
      ],
      "metadata": {
        "id": "pPbJC9Z8rAWy"
      }
    },
    {
      "cell_type": "code",
      "source": [
        "def process_string():\n",
        "    input_string = input(\"Enter a string: \")\n",
        "    char_list = list(input_string)\n",
        "    del char_list[1]\n",
        "    del char_list[2]\n",
        "    char_list.reverse()\n",
        "    result_string = ''.join(char_list)\n",
        "    print(\"Processed string:\", result_string)\n",
        "\n",
        "process_string()"
      ],
      "metadata": {
        "colab": {
          "base_uri": "https://localhost:8080/"
        },
        "id": "sfFp91KMrEnK",
        "outputId": "f924d266-e33d-4048-a9bd-4b768547b715"
      },
      "execution_count": 20,
      "outputs": [
        {
          "output_type": "stream",
          "name": "stdout",
          "text": [
            "Enter a string: python\n",
            "Processed string: notp\n"
          ]
        }
      ]
    },
    {
      "cell_type": "markdown",
      "source": [
        "– Take two numbers from user and perform at least 4 arithmetic operations on them.\n"
      ],
      "metadata": {
        "id": "5mWhkBnGr6sV"
      }
    },
    {
      "cell_type": "code",
      "source": [
        "num1 = int(input(\"enter number 1 :\"))\n",
        "num2 = int(input(\"enter number 2 :\"))\n",
        "\n",
        "print(\"\\n addition : \",(num1+num2))\n",
        "print(\"substraction : \",(num1-num2))\n",
        "print(\"divison : \",(num1/num2))\n",
        "print(\"multiplication : \",(num1*num2))"
      ],
      "metadata": {
        "colab": {
          "base_uri": "https://localhost:8080/"
        },
        "id": "yKOT_jFOr-6F",
        "outputId": "31bdf972-4065-410b-a1ed-0c5b66067831"
      },
      "execution_count": 11,
      "outputs": [
        {
          "output_type": "stream",
          "name": "stdout",
          "text": [
            "enter number 1 :10\n",
            "enter number 2 :20\n",
            "\n",
            " addition :  30\n",
            "substraction :  -10\n",
            "divison :  0.5\n",
            "multiplication :  200\n"
          ]
        }
      ]
    },
    {
      "cell_type": "markdown",
      "source": [],
      "metadata": {
        "id": "61XGDYpKr8b2"
      }
    },
    {
      "cell_type": "markdown",
      "source": [
        "Write a program that accepts a sentence and replace each occurrence of ‘python’ with ‘pythons’.\n",
        "• Sample input:\n",
        "•I love playing with python\n",
        "• Sample output:\n",
        "•I love playing with pythons"
      ],
      "metadata": {
        "id": "uZfAiln1tsAT"
      }
    },
    {
      "cell_type": "code",
      "source": [
        "inputValue = input(\"enter string :\")\n",
        "inputValue = inputValue.replace(\"python\",\"pythons\")\n",
        "print(inputValue)"
      ],
      "metadata": {
        "colab": {
          "base_uri": "https://localhost:8080/"
        },
        "id": "MJhIZGvzty9Z",
        "outputId": "015580d1-540a-4b34-9f95-55e7a1ce509c"
      },
      "execution_count": 14,
      "outputs": [
        {
          "output_type": "stream",
          "name": "stdout",
          "text": [
            "enter string :i love playing with python\n",
            "i love playing with pythons\n"
          ]
        }
      ]
    },
    {
      "cell_type": "markdown",
      "source": [
        "Use the if statement conditions to write a program to print the letter grade based on an input classscore. Use the\n",
        "grading scheme we are using in this class."
      ],
      "metadata": {
        "id": "2NIlHxanud0o"
      }
    },
    {
      "cell_type": "code",
      "source": [
        "marks = int(input(\"Enter Students score : \"))\n",
        "\n",
        "if(marks<=100 and marks>=90):\n",
        "    print(\"Grade = A\")\n",
        "elif(marks<=89 and marks>=80):\n",
        "     print(\"Grade = B\")\n",
        "elif(marks<=79 and marks>=70):\n",
        "     print(\"Grade = C\")\n",
        "elif(marks<=69 and marks>=60):\n",
        "     print(\"Grade = D\")\n",
        "elif(marks<=59 and marks>=0):\n",
        "     print(\"Grade = F\")\n"
      ],
      "metadata": {
        "colab": {
          "base_uri": "https://localhost:8080/"
        },
        "id": "RKumfI6kujdw",
        "outputId": "350902c7-fe57-436a-bba8-b0c641ec707f"
      },
      "execution_count": 17,
      "outputs": [
        {
          "output_type": "stream",
          "name": "stdout",
          "text": [
            "Enter Students score : 90\n",
            "Grade = A\n"
          ]
        }
      ]
    }
  ]
}